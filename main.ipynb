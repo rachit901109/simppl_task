{
 "cells": [
  {
   "cell_type": "code",
   "execution_count": 1,
   "metadata": {},
   "outputs": [],
   "source": [
    "import pandas as pd\n",
    "import numpy as np\n",
    "import json\n",
    "import os\n",
    "from pprint import pprint"
   ]
  },
  {
   "cell_type": "code",
   "execution_count": 11,
   "metadata": {},
   "outputs": [],
   "source": [
    "data_dir = r\"raw_data\\insta\"\n",
    "file = r\"politician_profile.json\"\n",
    "\n",
    "file_path = os.path.join(data_dir, file)\n",
    "\n",
    "with open(file_path, 'r', encoding=\"utf-8\") as f:\n",
    "    data = json.load(f)"
   ]
  },
  {
   "cell_type": "code",
   "execution_count": 18,
   "metadata": {},
   "outputs": [
    {
     "name": "stdout",
     "output_type": "stream",
     "text": [
      "dict_keys(['inputUrl', 'id', 'username', 'url', 'fullName', 'biography', 'externalUrl', 'externalUrlShimmed', 'followersCount', 'followsCount', 'hasChannel', 'highlightReelCount', 'isBusinessAccount', 'joinedRecently', 'businessCategoryName', 'private', 'verified', 'profilePicUrl', 'profilePicUrlHD', 'igtvVideoCount', 'relatedProfiles', 'latestIgtvVideos', 'postsCount', 'latestPosts'])\n",
      "bjp4telangana 8581 1\n"
     ]
    }
   ],
   "source": [
    "for i in data:\n",
    "    print(i.keys())\n",
    "    print(i['username'],i['postsCount'],i['highlightReelCount'])\n",
    "    break"
   ]
  },
  {
   "cell_type": "code",
   "execution_count": 13,
   "metadata": {},
   "outputs": [],
   "source": [
    "df = pd.read_json(file_path)"
   ]
  },
  {
   "cell_type": "code",
   "execution_count": 19,
   "metadata": {},
   "outputs": [
    {
     "data": {
      "text/plain": [
       "Index(['inputUrl', 'id', 'username', 'url', 'fullName', 'biography',\n",
       "       'externalUrl', 'externalUrlShimmed', 'followersCount', 'followsCount',\n",
       "       'hasChannel', 'highlightReelCount', 'isBusinessAccount',\n",
       "       'joinedRecently', 'businessCategoryName', 'private', 'verified',\n",
       "       'profilePicUrl', 'profilePicUrlHD', 'igtvVideoCount', 'relatedProfiles',\n",
       "       'latestIgtvVideos', 'postsCount', 'latestPosts'],\n",
       "      dtype='object')"
      ]
     },
     "execution_count": 19,
     "metadata": {},
     "output_type": "execute_result"
    }
   ],
   "source": [
    "test_df.columns"
   ]
  },
  {
   "cell_type": "code",
   "execution_count": null,
   "metadata": {},
   "outputs": [],
   "source": []
  }
 ],
 "metadata": {
  "kernelspec": {
   "display_name": "Python 3 (ipykernel)",
   "language": "python",
   "name": "python3"
  },
  "language_info": {
   "codemirror_mode": {
    "name": "ipython",
    "version": 3
   },
   "file_extension": ".py",
   "mimetype": "text/x-python",
   "name": "python",
   "nbconvert_exporter": "python",
   "pygments_lexer": "ipython3",
   "version": "3.10.8"
  }
 },
 "nbformat": 4,
 "nbformat_minor": 4
}
