{
 "cells": [
  {
   "cell_type": "code",
   "execution_count": 19,
   "id": "967dc2c7-2796-4e86-8a8f-35f44379928d",
   "metadata": {},
   "outputs": [],
   "source": [
    "import pandas as pd\n",
    "import numpy as np\n",
    "import json\n",
    "import os\n",
    "from pprint import pprint"
   ]
  },
  {
   "cell_type": "code",
   "execution_count": 20,
   "id": "80a83faa-2767-4796-8b9d-b8d598e4813f",
   "metadata": {},
   "outputs": [],
   "source": [
    "data_dir = r\"raw_data\\insta\"\n",
    "file = r\"politician_profile.json\"\n",
    "\n",
    "file_path = os.path.join(data_dir, file)\n",
    "\n",
    "with open(file_path, 'r', encoding=\"utf-8\") as f:\n",
    "    data = json.load(f)"
   ]
  },
  {
   "cell_type": "code",
   "execution_count": 21,
   "id": "f4d6c824-4167-4824-9d05-75283b2febbd",
   "metadata": {},
   "outputs": [],
   "source": [
    "df = pd.read_json(file_path)"
   ]
  },
  {
   "cell_type": "code",
   "execution_count": 22,
   "id": "cada007b-88b4-44cf-bd94-445d81e11dbd",
   "metadata": {},
   "outputs": [
    {
     "data": {
      "text/plain": [
       "Index(['inputUrl', 'id', 'username', 'url', 'fullName', 'biography',\n",
       "       'externalUrl', 'externalUrlShimmed', 'followersCount', 'followsCount',\n",
       "       'hasChannel', 'highlightReelCount', 'isBusinessAccount',\n",
       "       'joinedRecently', 'businessCategoryName', 'private', 'verified',\n",
       "       'profilePicUrl', 'profilePicUrlHD', 'igtvVideoCount', 'relatedProfiles',\n",
       "       'latestIgtvVideos', 'postsCount', 'latestPosts'],\n",
       "      dtype='object')"
      ]
     },
     "execution_count": 22,
     "metadata": {},
     "output_type": "execute_result"
    }
   ],
   "source": [
    "df.columns"
   ]
  },
  {
   "cell_type": "code",
   "execution_count": 23,
   "id": "7145d014-4282-41e3-ae08-944f630e4a73",
   "metadata": {},
   "outputs": [
    {
     "name": "stdout",
     "output_type": "stream",
     "text": [
      "<class 'pandas.core.frame.DataFrame'>\n",
      "RangeIndex: 23 entries, 0 to 22\n",
      "Data columns (total 24 columns):\n",
      " #   Column                Non-Null Count  Dtype \n",
      "---  ------                --------------  ----- \n",
      " 0   inputUrl              23 non-null     object\n",
      " 1   id                    23 non-null     int64 \n",
      " 2   username              23 non-null     object\n",
      " 3   url                   23 non-null     object\n",
      " 4   fullName              23 non-null     object\n",
      " 5   biography             23 non-null     object\n",
      " 6   externalUrl           22 non-null     object\n",
      " 7   externalUrlShimmed    22 non-null     object\n",
      " 8   followersCount        23 non-null     int64 \n",
      " 9   followsCount          23 non-null     int64 \n",
      " 10  hasChannel            23 non-null     bool  \n",
      " 11  highlightReelCount    23 non-null     int64 \n",
      " 12  isBusinessAccount     23 non-null     bool  \n",
      " 13  joinedRecently        23 non-null     bool  \n",
      " 14  businessCategoryName  23 non-null     object\n",
      " 15  private               23 non-null     bool  \n",
      " 16  verified              23 non-null     bool  \n",
      " 17  profilePicUrl         23 non-null     object\n",
      " 18  profilePicUrlHD       23 non-null     object\n",
      " 19  igtvVideoCount        23 non-null     int64 \n",
      " 20  relatedProfiles       23 non-null     object\n",
      " 21  latestIgtvVideos      23 non-null     object\n",
      " 22  postsCount            23 non-null     int64 \n",
      " 23  latestPosts           23 non-null     object\n",
      "dtypes: bool(5), int64(6), object(13)\n",
      "memory usage: 3.7+ KB\n"
     ]
    }
   ],
   "source": [
    "df.info()"
   ]
  },
  {
   "cell_type": "code",
   "execution_count": 24,
   "id": "b4330c3f-6484-4c8d-aff6-a40376d1f05c",
   "metadata": {},
   "outputs": [
    {
     "data": {
      "text/plain": [
       "inputUrl                          https://www.instagram.com/bjp4telangana\n",
       "id                                                             3620096101\n",
       "username                                                    bjp4telangana\n",
       "url                               https://www.instagram.com/bjp4telangana\n",
       "fullName                                                    BJP Telangana\n",
       "biography                        Official account of BJP Telangana State.\n",
       "externalUrl                                     http://telangana.bjp.org/\n",
       "externalUrlShimmed      https://l.instagram.com/?u=http%3A%2F%2Ftelang...\n",
       "followersCount                                                     275784\n",
       "followsCount                                                           21\n",
       "hasChannel                                                          False\n",
       "highlightReelCount                                                      1\n",
       "isBusinessAccount                                                    True\n",
       "joinedRecently                                                      False\n",
       "businessCategoryName                          None,Political Organization\n",
       "private                                                             False\n",
       "verified                                                             True\n",
       "profilePicUrl           https://instagram.ffln6-1.fna.fbcdn.net/v/t51....\n",
       "profilePicUrlHD         https://instagram.ffln6-1.fna.fbcdn.net/v/t51....\n",
       "igtvVideoCount                                                        625\n",
       "relatedProfiles         [{'id': '64126789438', 'full_name': 'Kompella ...\n",
       "latestIgtvVideos        [{'type': 'Video', 'shortCode': 'CvcDqcxPJSi',...\n",
       "postsCount                                                           8581\n",
       "latestPosts             [{'id': '3386675318289624884', 'type': 'Image'...\n",
       "Name: 0, dtype: object"
      ]
     },
     "execution_count": 24,
     "metadata": {},
     "output_type": "execute_result"
    }
   ],
   "source": [
    "df.iloc[0]"
   ]
  },
  {
   "cell_type": "code",
   "execution_count": 25,
   "id": "c60b384d-eabf-4c6f-8382-9665175d9daa",
   "metadata": {},
   "outputs": [],
   "source": [
    "df.drop(['inputUrl', 'url','externalUrl', 'externalUrlShimmed','highlightReelCount', 'profilePicUrlHD', 'relatedProfiles','latestIgtvVideos', 'latestPosts'], axis=1, inplace=True)"
   ]
  },
  {
   "cell_type": "code",
   "execution_count": 26,
   "id": "b1680670-6d57-410f-bd56-e560381f2033",
   "metadata": {},
   "outputs": [
    {
     "data": {
      "text/html": [
       "<div>\n",
       "<style scoped>\n",
       "    .dataframe tbody tr th:only-of-type {\n",
       "        vertical-align: middle;\n",
       "    }\n",
       "\n",
       "    .dataframe tbody tr th {\n",
       "        vertical-align: top;\n",
       "    }\n",
       "\n",
       "    .dataframe thead th {\n",
       "        text-align: right;\n",
       "    }\n",
       "</style>\n",
       "<table border=\"1\" class=\"dataframe\">\n",
       "  <thead>\n",
       "    <tr style=\"text-align: right;\">\n",
       "      <th></th>\n",
       "      <th>id</th>\n",
       "      <th>username</th>\n",
       "      <th>fullName</th>\n",
       "      <th>biography</th>\n",
       "      <th>followersCount</th>\n",
       "      <th>followsCount</th>\n",
       "      <th>hasChannel</th>\n",
       "      <th>isBusinessAccount</th>\n",
       "      <th>joinedRecently</th>\n",
       "      <th>businessCategoryName</th>\n",
       "      <th>private</th>\n",
       "      <th>verified</th>\n",
       "      <th>profilePicUrl</th>\n",
       "      <th>igtvVideoCount</th>\n",
       "      <th>postsCount</th>\n",
       "    </tr>\n",
       "  </thead>\n",
       "  <tbody>\n",
       "    <tr>\n",
       "      <th>0</th>\n",
       "      <td>3620096101</td>\n",
       "      <td>bjp4telangana</td>\n",
       "      <td>BJP Telangana</td>\n",
       "      <td>Official account of BJP Telangana State.</td>\n",
       "      <td>275784</td>\n",
       "      <td>21</td>\n",
       "      <td>False</td>\n",
       "      <td>True</td>\n",
       "      <td>False</td>\n",
       "      <td>None,Political Organization</td>\n",
       "      <td>False</td>\n",
       "      <td>True</td>\n",
       "      <td>https://instagram.ffln6-1.fna.fbcdn.net/v/t51....</td>\n",
       "      <td>625</td>\n",
       "      <td>8581</td>\n",
       "    </tr>\n",
       "    <tr>\n",
       "      <th>1</th>\n",
       "      <td>4217102957</td>\n",
       "      <td>shivsena</td>\n",
       "      <td>Shivsena Uddhav Balasaheb Thackeray</td>\n",
       "      <td>जनसामान्यांच्या हक्कांसाठी रस्त्यावर उतरून सर्...</td>\n",
       "      <td>722162</td>\n",
       "      <td>60</td>\n",
       "      <td>False</td>\n",
       "      <td>False</td>\n",
       "      <td>False</td>\n",
       "      <td>Political Party</td>\n",
       "      <td>False</td>\n",
       "      <td>True</td>\n",
       "      <td>https://scontent-ord5-2.cdninstagram.com/v/t51...</td>\n",
       "      <td>207</td>\n",
       "      <td>6070</td>\n",
       "    </tr>\n",
       "    <tr>\n",
       "      <th>2</th>\n",
       "      <td>3268019072</td>\n",
       "      <td>bjp4delhi</td>\n",
       "      <td>BJP Delhi</td>\n",
       "      <td>This is the official instagram account of Bhar...</td>\n",
       "      <td>1133191</td>\n",
       "      <td>18</td>\n",
       "      <td>False</td>\n",
       "      <td>True</td>\n",
       "      <td>False</td>\n",
       "      <td>None,Political Party</td>\n",
       "      <td>False</td>\n",
       "      <td>True</td>\n",
       "      <td>https://scontent-mia3-2.cdninstagram.com/v/t51...</td>\n",
       "      <td>2899</td>\n",
       "      <td>19351</td>\n",
       "    </tr>\n",
       "    <tr>\n",
       "      <th>3</th>\n",
       "      <td>1132553746</td>\n",
       "      <td>incindia</td>\n",
       "      <td>Congress</td>\n",
       "      <td>World's largest democratic political organisat...</td>\n",
       "      <td>7068257</td>\n",
       "      <td>56</td>\n",
       "      <td>False</td>\n",
       "      <td>False</td>\n",
       "      <td>False</td>\n",
       "      <td>Political Party</td>\n",
       "      <td>False</td>\n",
       "      <td>True</td>\n",
       "      <td>https://instagram.fbda2-1.fna.fbcdn.net/v/t51....</td>\n",
       "      <td>3117</td>\n",
       "      <td>22249</td>\n",
       "    </tr>\n",
       "    <tr>\n",
       "      <th>4</th>\n",
       "      <td>3594357710</td>\n",
       "      <td>bjp4mp</td>\n",
       "      <td>BJP Madhya Pradesh</td>\n",
       "      <td>This is the official instagram account of Bhar...</td>\n",
       "      <td>274594</td>\n",
       "      <td>11</td>\n",
       "      <td>False</td>\n",
       "      <td>False</td>\n",
       "      <td>False</td>\n",
       "      <td>Political Organization</td>\n",
       "      <td>False</td>\n",
       "      <td>True</td>\n",
       "      <td>https://instagram.fknu2-1.fna.fbcdn.net/v/t51....</td>\n",
       "      <td>267</td>\n",
       "      <td>14326</td>\n",
       "    </tr>\n",
       "  </tbody>\n",
       "</table>\n",
       "</div>"
      ],
      "text/plain": [
       "           id       username                             fullName  \\\n",
       "0  3620096101  bjp4telangana                        BJP Telangana   \n",
       "1  4217102957       shivsena  Shivsena Uddhav Balasaheb Thackeray   \n",
       "2  3268019072      bjp4delhi                            BJP Delhi   \n",
       "3  1132553746       incindia                             Congress   \n",
       "4  3594357710         bjp4mp                   BJP Madhya Pradesh   \n",
       "\n",
       "                                           biography  followersCount  \\\n",
       "0           Official account of BJP Telangana State.          275784   \n",
       "1  जनसामान्यांच्या हक्कांसाठी रस्त्यावर उतरून सर्...          722162   \n",
       "2  This is the official instagram account of Bhar...         1133191   \n",
       "3  World's largest democratic political organisat...         7068257   \n",
       "4  This is the official instagram account of Bhar...          274594   \n",
       "\n",
       "   followsCount  hasChannel  isBusinessAccount  joinedRecently  \\\n",
       "0            21       False               True           False   \n",
       "1            60       False              False           False   \n",
       "2            18       False               True           False   \n",
       "3            56       False              False           False   \n",
       "4            11       False              False           False   \n",
       "\n",
       "          businessCategoryName  private  verified  \\\n",
       "0  None,Political Organization    False      True   \n",
       "1              Political Party    False      True   \n",
       "2         None,Political Party    False      True   \n",
       "3              Political Party    False      True   \n",
       "4       Political Organization    False      True   \n",
       "\n",
       "                                       profilePicUrl  igtvVideoCount  \\\n",
       "0  https://instagram.ffln6-1.fna.fbcdn.net/v/t51....             625   \n",
       "1  https://scontent-ord5-2.cdninstagram.com/v/t51...             207   \n",
       "2  https://scontent-mia3-2.cdninstagram.com/v/t51...            2899   \n",
       "3  https://instagram.fbda2-1.fna.fbcdn.net/v/t51....            3117   \n",
       "4  https://instagram.fknu2-1.fna.fbcdn.net/v/t51....             267   \n",
       "\n",
       "   postsCount  \n",
       "0        8581  \n",
       "1        6070  \n",
       "2       19351  \n",
       "3       22249  \n",
       "4       14326  "
      ]
     },
     "execution_count": 26,
     "metadata": {},
     "output_type": "execute_result"
    }
   ],
   "source": [
    "df.head()"
   ]
  },
  {
   "cell_type": "code",
   "execution_count": 27,
   "id": "28c54ceb-c8bf-40e4-9807-4081fbd7d772",
   "metadata": {},
   "outputs": [],
   "source": [
    "save_dir = r\"process_data\\insta\"\n",
    "file_name = r\"profile_data.csv\"\n",
    "\n",
    "save_path = os.path.join(save_dir, file_name)\n",
    "\n",
    "df.to_csv(save_path, index=False)"
   ]
  },
  {
   "cell_type": "code",
   "execution_count": 30,
   "id": "5bb18707-f5d1-4fe4-9af9-b672fd349496",
   "metadata": {},
   "outputs": [
    {
     "name": "stdout",
     "output_type": "stream",
     "text": [
      "https://instagram.ffln6-1.fna.fbcdn.net/v/t51.2885-19/434686318_942938477157328_646963866417844661_n.jpg?stp=dst-jpg_e0_s150x150&_nc_ht=instagram.ffln6-1.fna.fbcdn.net&_nc_cat=104&_nc_ohc=9GAfOpWFbl0Q7kNvgEw-2nF&edm=AOQ1c0wBAAAA&ccb=7-5&oh=00_AYBl_SFC76rY3kiqqKtPEBGKoUOhHZJqyWMw79owDIzQiQ&oe=66918CA5&_nc_sid=8b3546\n"
     ]
    }
   ],
   "source": [
    "print(data[0]['profilePicUrlHD'])"
   ]
  },
  {
   "cell_type": "code",
   "execution_count": 13,
   "id": "cff92417-cef1-4f78-ac7c-80f21b112c67",
   "metadata": {},
   "outputs": [
    {
     "data": {
      "text/plain": [
       "Index(['id', 'username', 'fullName', 'biography', 'followersCount',\n",
       "       'followsCount', 'hasChannel', 'isBusinessAccount', 'joinedRecently',\n",
       "       'businessCategoryName', 'private', 'verified', 'igtvVideoCount',\n",
       "       'postsCount'],\n",
       "      dtype='object')"
      ]
     },
     "execution_count": 13,
     "metadata": {},
     "output_type": "execute_result"
    }
   ],
   "source": [
    "df.columns"
   ]
  },
  {
   "cell_type": "code",
   "execution_count": 29,
   "id": "98a2c127-dd18-4d9f-ba4e-32e32c2abe2a",
   "metadata": {},
   "outputs": [
    {
     "name": "stdout",
     "output_type": "stream",
     "text": [
      "https://instagram.ffln6-1.fna.fbcdn.net/v/t51.2885-19/434686318_942938477157328_646963866417844661_n.jpg?stp=dst-jpg_e0_s150x150&_nc_ht=instagram.ffln6-1.fna.fbcdn.net&_nc_cat=104&_nc_ohc=9GAfOpWFbl0Q7kNvgEw-2nF&edm=AOQ1c0wBAAAA&ccb=7-5&oh=00_AYBl_SFC76rY3kiqqKtPEBGKoUOhHZJqyWMw79owDIzQiQ&oe=66918CA5&_nc_sid=8b3546\n"
     ]
    }
   ],
   "source": [
    "for idx, profile in df.iterrows():\n",
    "    print(profile['profilePicUrl'])\n",
    "    break"
   ]
  },
  {
   "cell_type": "code",
   "execution_count": null,
   "id": "a77d5ad5-98d8-4b9d-81b6-c2864fe22753",
   "metadata": {},
   "outputs": [],
   "source": [
    "b"
   ]
  }
 ],
 "metadata": {
  "kernelspec": {
   "display_name": "Python 3 (ipykernel)",
   "language": "python",
   "name": "python3"
  },
  "language_info": {
   "codemirror_mode": {
    "name": "ipython",
    "version": 3
   },
   "file_extension": ".py",
   "mimetype": "text/x-python",
   "name": "python",
   "nbconvert_exporter": "python",
   "pygments_lexer": "ipython3",
   "version": "3.10.8"
  }
 },
 "nbformat": 4,
 "nbformat_minor": 5
}
